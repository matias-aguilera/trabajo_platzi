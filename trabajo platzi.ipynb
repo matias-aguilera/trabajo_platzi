{
 "cells": [
  {
   "cell_type": "markdown",
   "id": "9a9a6f59",
   "metadata": {},
   "source": [
    "este proyecto pretende resolver un puzzle deslisante de 3x3"
   ]
  },
  {
   "cell_type": "code",
   "execution_count": 11,
   "id": "5026f2d5",
   "metadata": {},
   "outputs": [],
   "source": [
    "import numpy as np\n",
    "from queue import PriorityQueue\n",
    "\n",
    "def lista_hijos(x):\n",
    "    x = np.array(x).reshape((3,3))\n",
    "    set1 = set()\n",
    "    a, b = np.where(x==0)\n",
    "    a = a[0]\n",
    "    b = b[0]\n",
    "    if a != 0:\n",
    "        # mueve hacia arriba\n",
    "        y = x.copy()\n",
    "        tmp = y[a,b]\n",
    "        y[a,b] = y[a-1,b]\n",
    "        y[a-1,b] = tmp\n",
    "        set1.add(tuple(y.reshape(-1)))\n",
    "    if a != x.shape[0]-1:\n",
    "        # mueve hacia abajo\n",
    "        y = x.copy()\n",
    "        tmp = y[a,b]\n",
    "        y[a,b] = y[a+1,b]\n",
    "        y[a+1,b] = tmp\n",
    "        set1.add(tuple(y.reshape(-1)))\n",
    "    if b != 0:\n",
    "        # mueve hacia la izquierda\n",
    "        y = x.copy()\n",
    "        tmp = y[a,b]\n",
    "        y[a,b] = y[a,b-1]\n",
    "        y[a,b-1] = tmp\n",
    "        set1.add(tuple(y.reshape(-1)))\n",
    "    if b != x.shape[1]-1:\n",
    "        # mueba hacia la derecha\n",
    "        y = x.copy()\n",
    "        tmp = y[a,b]\n",
    "        y[a,b] = y[a,b+1]\n",
    "        y[a,b+1] = tmp\n",
    "        set1.add(tuple(y.reshape(-1)))\n",
    "    return set1\n",
    "\n",
    "def ucs( start, goal):\n",
    "    start = tuple(start.reshape(-1))\n",
    "    goal = tuple(goal.reshape(-1))\n",
    "    visited = []\n",
    "    path = []\n",
    "    fringe = PriorityQueue()\n",
    "    fringe.put((0, start, path, visited))\n",
    "\n",
    "    while not fringe.empty():\n",
    "        depth, current_node, path, visited = fringe.get()\n",
    "\n",
    "        if current_node == goal:\n",
    "            return path + [current_node]\n",
    "\n",
    "        visited = visited + [current_node]\n",
    "\n",
    "        for node in lista_hijos(current_node):\n",
    "            if node not in visited:\n",
    "                if node == goal:\n",
    "                    return path + [node]\n",
    "                depth_of_node = len(path)\n",
    "                fringe.put((-depth_of_node, node, path + [node], visited))\n",
    "\n",
    "    return path"
   ]
  },
  {
   "cell_type": "markdown",
   "id": "340583c8",
   "metadata": {},
   "source": [
    "la o es el punto de origen del puzzle (usualmente empiza desordenado) y la d es el punto de destino (es usulmente el puzzle ordenado y completado)"
   ]
  },
  {
   "cell_type": "code",
   "execution_count": 14,
   "id": "37958da6",
   "metadata": {},
   "outputs": [
    {
     "name": "stdout",
     "output_type": "stream",
     "text": [
      "path [(2, 8, 3, 1, 0, 4, 7, 6, 5), (2, 0, 3, 1, 8, 4, 7, 6, 5), (0, 2, 3, 1, 8, 4, 7, 6, 5), (1, 2, 3, 0, 8, 4, 7, 6, 5), (1, 2, 3, 8, 0, 4, 7, 6, 5)]\n"
     ]
    }
   ],
   "source": [
    "o = np.array([[2,8,3],[1,6,4],[7,0,5]])\n",
    "d = np.array([[1,2,3],[8,0,4],[7,6,5]])\n",
    "path = ucs(o,d)\n",
    "print(\"path\", path) "
   ]
  },
  {
   "cell_type": "code",
   "execution_count": 15,
   "id": "5fd2126b",
   "metadata": {},
   "outputs": [],
   "source": [
    "def pasos(path):\n",
    "    count = 0\n",
    "    for step in path:\n",
    "        print(\"numero:\", count)\n",
    "        matriz = np.array(step)\n",
    "        print(matriz.reshape(3,3))\n",
    "        count+=1"
   ]
  },
  {
   "cell_type": "markdown",
   "id": "023dec52",
   "metadata": {},
   "source": [
    "el programa seguira paso a paso el como resolver el puzzle"
   ]
  },
  {
   "cell_type": "code",
   "execution_count": 16,
   "id": "704997f2",
   "metadata": {},
   "outputs": [
    {
     "name": "stdout",
     "output_type": "stream",
     "text": [
      "numero: 0\n",
      "[[2 8 3]\n",
      " [1 0 4]\n",
      " [7 6 5]]\n",
      "numero: 1\n",
      "[[2 0 3]\n",
      " [1 8 4]\n",
      " [7 6 5]]\n",
      "numero: 2\n",
      "[[0 2 3]\n",
      " [1 8 4]\n",
      " [7 6 5]]\n",
      "numero: 3\n",
      "[[1 2 3]\n",
      " [0 8 4]\n",
      " [7 6 5]]\n",
      "numero: 4\n",
      "[[1 2 3]\n",
      " [8 0 4]\n",
      " [7 6 5]]\n",
      "None\n"
     ]
    }
   ],
   "source": [
    "print(pasos(path))"
   ]
  },
  {
   "cell_type": "code",
   "execution_count": null,
   "id": "12900889",
   "metadata": {},
   "outputs": [],
   "source": []
  }
 ],
 "metadata": {
  "kernelspec": {
   "display_name": "Python 3 (ipykernel)",
   "language": "python",
   "name": "python3"
  },
  "language_info": {
   "codemirror_mode": {
    "name": "ipython",
    "version": 3
   },
   "file_extension": ".py",
   "mimetype": "text/x-python",
   "name": "python",
   "nbconvert_exporter": "python",
   "pygments_lexer": "ipython3",
   "version": "3.9.13"
  }
 },
 "nbformat": 4,
 "nbformat_minor": 5
}
